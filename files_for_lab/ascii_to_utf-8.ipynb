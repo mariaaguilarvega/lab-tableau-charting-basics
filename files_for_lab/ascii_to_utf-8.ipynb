{
 "cells": [
  {
   "cell_type": "code",
   "execution_count": 1,
   "id": "1ec786f0",
   "metadata": {},
   "outputs": [
    {
     "name": "stdout",
     "output_type": "stream",
     "text": [
      "ascii\n"
     ]
    }
   ],
   "source": [
    "import chardet\n",
    "\n",
    "with open('we_fn_use_c_marketing_customer_value_analysis.csv', 'rb') as file:\n",
    "    resultado = chardet.detect(file.read())\n",
    "    print(resultado['encoding'])"
   ]
  },
  {
   "cell_type": "code",
   "execution_count": 2,
   "id": "e7d2ce6f",
   "metadata": {},
   "outputs": [],
   "source": [
    "import pandas as pd\n",
    "\n",
    "# Leer el archivo con su encoding original\n",
    "df = pd.read_csv('we_fn_use_c_marketing_customer_value_analysis.csv', encoding='latin1')  # Cambia 'latin1' según el encoding actual\n",
    "\n",
    "# Guardar el archivo en UTF-8\n",
    "df.to_csv('data_utf8.csv', encoding='utf-8', index=False)\n"
   ]
  }
 ],
 "metadata": {
  "kernelspec": {
   "display_name": "base",
   "language": "python",
   "name": "python3"
  },
  "language_info": {
   "codemirror_mode": {
    "name": "ipython",
    "version": 3
   },
   "file_extension": ".py",
   "mimetype": "text/x-python",
   "name": "python",
   "nbconvert_exporter": "python",
   "pygments_lexer": "ipython3",
   "version": "3.12.7"
  }
 },
 "nbformat": 4,
 "nbformat_minor": 5
}
